{
 "cells": [
  {
   "cell_type": "code",
   "execution_count": 818,
   "metadata": {
    "collapsed": true
   },
   "outputs": [],
   "source": [
    "import pandas as pd\n",
    "import numpy as np\n",
    "from vincent.colors import brews\n",
    "from heapq import nlargest\n",
    "pd.options.mode.chained_assignment = None\n",
    "from scipy.stats import zscore"
   ]
  },
  {
   "cell_type": "code",
   "execution_count": 977,
   "metadata": {
    "collapsed": true
   },
   "outputs": [],
   "source": [
    "COMPANY = 'DSM'\n",
    "\n",
    "CRITERIA = 'Criteria - sorted by importance'\n",
    "IMP_MEAN = 'importance mean on a 10 pt scale'\n",
    "EMPTY = 'empty'\n",
    "MAX_VALUE = 'max_value'\n",
    "COLOR = 'color'\n",
    "COLOR_COL = 'Color of Columns'\n",
    "BORDER_COL = 'Border of Column'\n",
    "T_SCORE = 't_score'"
   ]
  },
  {
   "cell_type": "code",
   "execution_count": 820,
   "metadata": {
    "collapsed": true
   },
   "outputs": [],
   "source": [
    "def round_of_rating(number):\n",
    "    \"\"\"Round a number to the closest half integer.\"\"\"\n",
    "    return round(number * 2) / 2"
   ]
  },
  {
   "cell_type": "code",
   "execution_count": 976,
   "metadata": {
    "collapsed": false
   },
   "outputs": [
    {
     "name": "stdout",
     "output_type": "stream",
     "text": [
      "Index(['Criteria - sorted by importance', 'importance mean on a 10 pt scale',\n",
      "       'CP Kelco', 'DuPont Danisco', 'DSM', 'Fufeng', 'Jungbunzlauer (JBL)',\n",
      "       'ADM', 'Cargill'],\n",
      "      dtype='object')\n"
     ]
    }
   ],
   "source": [
    "print(mind_scan.columns)"
   ]
  },
  {
   "cell_type": "code",
   "execution_count": 978,
   "metadata": {
    "collapsed": false,
    "scrolled": true
   },
   "outputs": [],
   "source": [
    "# Initial grab of the data\n",
    "mind_scan = pd.read_excel(\"Testing.xlsx\", header=0, index_col=0)\n",
    "mind_scan_no_base = mind_scan.loc[mind_scan.index.dropna()]\n",
    "\n",
    "mind_scan_no_base[IMP_MEAN] = mind_scan_no_base[IMP_MEAN].round(1).copy()\n",
    "\n",
    "values_to_add = []\n",
    "for i in range(int(mind_scan_no_base[IMP_MEAN].min()*10), int(mind_scan_no_base[IMP_MEAN].max()*10)):\n",
    "    if i/10 not in mind_scan_no_base[IMP_MEAN].values:\n",
    "        values_to_add.append(i/10)\n",
    "\n",
    "\n",
    "data_cols = list(mind_scan_no_base.columns.values)\n",
    "data_cols.remove(COMPANY)\n",
    "data_cols.insert(2, COMPANY)\n",
    "data_cols[0], data_cols[1] = data_cols[1], data_cols[0]"
   ]
  },
  {
   "cell_type": "code",
   "execution_count": 979,
   "metadata": {
    "collapsed": false
   },
   "outputs": [],
   "source": [
    "values_df = pd.DataFrame(values_to_add, columns=[IMP_MEAN])\n",
    "values_df[EMPTY] = np.empty((values_df.shape[0],1))\n",
    "values_df[EMPTY] = np.nan\n",
    "values_df = values_df.set_index(EMPTY)\n",
    "mind_scan_no_base_all_x = mind_scan_no_base.append(values_df)\n",
    "mind_scan_no_base_all_x = mind_scan_no_base_all_x.iloc[::-1]\n",
    "\n",
    "mind_scan_no_base_all_x = mind_scan_no_base_all_x.sort_values(IMP_MEAN)\n",
    "mind_scan_no_base_all_x = mind_scan_no_base_all_x[data_cols]\n",
    "\n",
    "mind_values = mind_scan_no_base_all_x.drop([CRITERIA, IMP_MEAN], axis=1)\n",
    "\n",
    "for x in range(mind_scan_no_base_all_x.shape[0]):\n",
    "    if pd.isnull(mind_scan_no_base_all_x.index[x]):\n",
    "        mind_scan_no_base_all_x[IMP_MEAN][x] = np.nan\n",
    "\n",
    "mind_scan_no_base_all_x[MAX_VALUE] = (mind_values.dropna().values.max() + 0.2)"
   ]
  },
  {
   "cell_type": "code",
   "execution_count": 980,
   "metadata": {
    "collapsed": false
   },
   "outputs": [],
   "source": [
    "# Get number of data points above and to the right of the lines\n",
    "y_list = [item for sublist in mind_values.dropna().values for item in sublist]\n",
    "x_list = []\n",
    "for x in mind_scan_no_base.index:\n",
    "    for i in mind_values.columns:\n",
    "        x_list.append(mind_scan_no_base[i].loc[x])\n",
    "\n",
    "above_axis_x_num = int(mind_values.dropna().shape[0] * mind_values.dropna().shape[1] * 0.25)\n",
    "right_axis_y_num = int(mind_values.dropna().shape[0] / 3)\n",
    "\n",
    "top_x = nlargest(above_axis_x_num, x_list)[-1]\n",
    "top_y = mind_scan_no_base_all_x[IMP_MEAN].dropna().iloc[-right_axis_y_num]\n",
    "top_y_for_coloring = mind_scan_no_base_all_x[IMP_MEAN].dropna().iloc[-(right_axis_y_num + 1)]"
   ]
  },
  {
   "cell_type": "code",
   "execution_count": 981,
   "metadata": {
    "collapsed": false
   },
   "outputs": [],
   "source": [
    "x_limit = mind_scan_no_base_all_x.index.get_loc(mind_scan_no_base[mind_scan_no_base[IMP_MEAN] == (top_y)].index[-1])\n",
    "x_limit_for_coloring = mind_scan_no_base_all_x.index.get_loc(\n",
    "    mind_scan_no_base[mind_scan_no_base[IMP_MEAN] == (top_y_for_coloring)].index[-1])"
   ]
  },
  {
   "cell_type": "code",
   "execution_count": 982,
   "metadata": {
    "collapsed": false
   },
   "outputs": [
    {
     "name": "stdout",
     "output_type": "stream",
     "text": [
      "Open\n",
      "Battle\n",
      "Battle\n"
     ]
    }
   ],
   "source": [
    "column_colors = pd.DataFrame(\"#FFFFFF\", columns=[COLOR_COL, BORDER_COL], index=mind_scan_no_base_all_x[IMP_MEAN])\n",
    "\n",
    "decide_columns = mind_values.reset_index(drop=True).dropna().loc[x_limit_for_coloring:].T\n",
    "\n",
    "for col in decide_columns.columns:\n",
    "    decide_columns[T_SCORE] = zscore(decide_columns[col], ddof=1)\n",
    "    \n",
    "    # Open\n",
    "    if decide_columns[col].max() <= top_x:\n",
    "        column_colors[COLOR_COL].iloc[col] = '#FFF633'\n",
    "        column_colors[BORDER_COL].iloc[col] = '#E3DB21'\n",
    "        print('Open')\n",
    "                \n",
    "    #Owned\n",
    "    elif decide_columns[T_SCORE].loc[COMPANY] > (decide_columns[T_SCORE].drop(COMPANY).max() + (\n",
    "        abs(decide_columns[T_SCORE].drop(COMPANY).max()) + abs(decide_columns[\n",
    "            T_SCORE].drop(COMPANY).min()))/decide_columns.drop(COMPANY).shape[0]):\n",
    "        column_colors[COLOR_COL].iloc[col] = '#73D56B'\n",
    "        column_colors[BORDER_COL].iloc[col] = '#57A051'\n",
    "        print('Owned')\n",
    "\n",
    "    # Battleground if the Company is close to max\n",
    "    elif decide_columns[T_SCORE].loc[COMPANY] > 0:\n",
    "        column_colors[COLOR_COL].iloc[col] = '#B2B1D5'\n",
    "        column_colors[BORDER_COL].iloc[col] = '#9190AE'\n",
    "        print('Battle')\n",
    "\n",
    "\n",
    "list_of_column_colors = []\n",
    "for a in range(column_colors.shape[0]):\n",
    "    list_of_column_colors.append({'fill' : {'color' : column_colors[COLOR_COL].iloc[a]}, \n",
    "                                  'border': {'color': column_colors[BORDER_COL].iloc[a]}})"
   ]
  },
  {
   "cell_type": "code",
   "execution_count": 985,
   "metadata": {
    "collapsed": false
   },
   "outputs": [],
   "source": [
    "series_to_delete = []\n",
    "series_to_delete.append(0)\n",
    "series_to_delete.append(1)\n",
    "for i in range(mind_values.shape[1]):\n",
    "    series_to_delete.append(mind_values.shape[1] +2 + i)"
   ]
  },
  {
   "cell_type": "code",
   "execution_count": 986,
   "metadata": {
    "collapsed": false
   },
   "outputs": [],
   "source": [
    "# Makes the new workbook and outputs the data into that one\n",
    "\n",
    "excel_file = 'testing-output.xlsx'\n",
    "sheet_name = 'Sheet1'\n",
    "\n",
    "# Create a Pandas Excel writer using XlsxWriter as the engine.\n",
    "writer = pd.ExcelWriter(excel_file, engine='xlsxwriter')\n",
    "mind_scan_no_base_all_x.to_excel(writer, sheet_name=sheet_name)\n",
    "\n",
    "# Access the XlsxWriter workbook and worksheet objects from the dataframe.\n",
    "workbook = writer.book\n",
    "worksheet = writer.sheets[sheet_name]"
   ]
  },
  {
   "cell_type": "code",
   "execution_count": 987,
   "metadata": {
    "collapsed": false
   },
   "outputs": [],
   "source": [
    "# Create a chart object.\n",
    "scatter_chart = workbook.add_chart({'type': 'line'})\n",
    "column_chart = workbook.add_chart({'type': 'column', 'subtype': 'stacked'})\n",
    "chartsheet = workbook.add_chartsheet()\n",
    "\n",
    "# Configure the series of the chart from the dataframe data.\n",
    "max_row = mind_scan_no_base_all_x.shape[0]\n",
    "max_column = mind_scan_no_base_all_x.shape[1]\n",
    "\n",
    "for i in range(mind_values.shape[1]):\n",
    "    col = i + 3\n",
    "    \n",
    "    scatter_chart.add_series({\n",
    "        'name': ['Sheet1', 0, col],\n",
    "        'categories' : ['Sheet1', 1, 0, max_row, 0],\n",
    "        'values' : ['Sheet1', 1, col, max_row, col],\n",
    "        'line': {'none': True},\n",
    "        'marker' : {'type': 'automatic',\n",
    "                   'size': 5,\n",
    "                   'fill': {'color': brews['Set3'][i]}},\n",
    "    })\n",
    "\n",
    "for i in range(mind_values.shape[1]):\n",
    "    col = i + 3\n",
    "    scatter_chart.add_series({\n",
    "        'categories' : ['Sheet1', 1, 0, max_row, 0],\n",
    "        'values' : ['Sheet1', 1, col, max_row, col],\n",
    "        'line': {'none': True},\n",
    "        'x2_axis' : True,\n",
    "        'y2_axis' : True,\n",
    "    })\n"
   ]
  },
  {
   "cell_type": "code",
   "execution_count": 988,
   "metadata": {
    "collapsed": false
   },
   "outputs": [],
   "source": [
    "column_chart.add_series({\n",
    "    'categories' : ['Sheet1', 1, 0, max_row, 0],\n",
    "    'values' : ['Sheet1', 1, max_column, max_row, max_column],\n",
    "    'gap':0,\n",
    "    'points': list_of_column_colors,\n",
    "})\n",
    "\n",
    "column_chart.add_series({\n",
    "    'categories' : ['Sheet1', 1, 0, max_row, 0],\n",
    "    'values' : ['Sheet1', 1, 1, max_row, 1],\n",
    "    'fill':   {'none': True},\n",
    "    'data_labels': {'value': True,\n",
    "                    'legend_key': False,\n",
    "                    'position': 'inside_base',\n",
    "                    'num_font':  {'size': 12},\n",
    "                   },\n",
    "})\n",
    "\n",
    "scatter_chart.combine(column_chart)\n",
    "\n",
    "# Configure the chart axes.\n",
    "scatter_chart.set_x_axis({\n",
    "    'num_font':  {'size': 12},\n",
    "    'major_gridlines': {'visible': False},\n",
    "    'major_tick_mark' : 'none',\n",
    "    'minor_tick_mark' : 'none',\n",
    "})\n",
    "\n",
    "scatter_chart.set_x2_axis({\n",
    "    'crossing' : x_limit,\n",
    "    'visible' : True,\n",
    "    'major_tick_mark' : 'none',\n",
    "    'minor_tick_mark' : 'none',\n",
    "\n",
    "})\n",
    "\n",
    "scatter_chart.set_y_axis({\n",
    "    'major_gridlines': {'visible': False},\n",
    "    'minor_unit': 2, \n",
    "    'major_unit': 0.5,\n",
    "    'max': (mind_values.dropna().values.max() + 0.2)+.01,\n",
    "    'min': round_of_rating(mind_values.dropna().values.min() - 0.2),\n",
    "    'num_format': '#,##0.00',\n",
    "    #'num_font': {'rotation': -45}\n",
    "})\n",
    "\n",
    "scatter_chart.set_y2_axis({\n",
    "    'crossing' : top_x,\n",
    "    'major_tick_mark' : 'none',\n",
    "    'minor_tick_mark' : 'none',\n",
    "    'label_position': 'none',\n",
    "    'max': (mind_values.dropna().values.max() + 0.2),\n",
    "    'min': round_of_rating(mind_values.dropna().values.min() - 0.2),\n",
    "})\n",
    "\n",
    "\n",
    "# Position the legend at the top of the chart.\n",
    "scatter_chart.set_legend({\n",
    "    'position': 'top',\n",
    "    'delete_series': series_to_delete,\n",
    "})\n",
    "\n",
    "scatter_chart.set_plotarea({\n",
    "    'border': {'color': 'black', 'width': 1},\n",
    "})\n",
    "\n",
    "scatter_chart.set_size({'width': 1000, 'height': 800})\n",
    "\n",
    "scatter_chart.set_title({\n",
    "    'name': '2017 All Respondents',\n",
    "    'name_font': {'size': 14,\n",
    "                  'bold': True,\n",
    "                  'color':'red',\n",
    "                  'name':'Pinup'\n",
    "                 },\n",
    "})\n",
    "\n",
    "\n",
    "\n",
    "# Insert the chart into the worksheet.\n",
    "#worksheet.insert_chart('K2', scatter_chart)\n",
    "\n",
    "chartsheet.set_chart(scatter_chart)\n",
    "\n",
    "# Close the Pandas Excel writer and output the Excel file.\n",
    "writer.save()"
   ]
  }
 ],
 "metadata": {
  "kernelspec": {
   "display_name": "Python 3",
   "language": "python",
   "name": "python3"
  },
  "language_info": {
   "codemirror_mode": {
    "name": "ipython",
    "version": 3
   },
   "file_extension": ".py",
   "mimetype": "text/x-python",
   "name": "python",
   "nbconvert_exporter": "python",
   "pygments_lexer": "ipython3",
   "version": "3.6.0"
  }
 },
 "nbformat": 4,
 "nbformat_minor": 2
}
